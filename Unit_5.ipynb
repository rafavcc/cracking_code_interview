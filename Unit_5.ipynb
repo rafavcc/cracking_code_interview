{
 "cells": [
  {
   "cell_type": "code",
   "execution_count": null,
   "metadata": {},
   "outputs": [
    {
     "name": "stdout",
     "output_type": "stream",
     "text": [
      "<function updateBits at 0x107cd8680> 1024 256 2 12\n"
     ]
    }
   ],
   "source": [
    "# Exercise 5.1 - page 120 - hint 665 - solution on 287\n",
    "\n",
    "# Steps:\n",
    "# Clear the bits j through i in N\n",
    "# Shift M to it lines up with bits j through i\n",
    "# Merge M and N\n",
    "\n",
    "def updateBits(n, m, i, j):\n",
    "    # Create the mask to clear bits i through j\n",
    "    # Start with all 1s, but mark 0 in bits i through j\n",
    "    # I will simulate j = 4 and i = 2\n",
    "    allOnes = 0xFFFFFFFF # 0x11111111\n",
    "    shiftI = allOnes << (j+1) # 0x11100000\n",
    "    shiftJ = (1 << i) - 1 # 0x00000011\n",
    "    mask = shiftI | shiftJ # 0x11100011\n",
    "    clearedN = n & mask # Clearing the positions in n\n",
    "    shiftedM = m << i\n",
    "    result = clearedN | shiftedM\n",
    "    return result\n",
    "\n",
    "print(updateBits, 1024, 256, 2, 12)\n"
   ]
  },
  {
   "cell_type": "code",
   "execution_count": 36,
   "metadata": {},
   "outputs": [
    {
     "name": "stdout",
     "output_type": "stream",
     "text": [
      "0.101\n",
      "0.1\n",
      "0.001\n"
     ]
    }
   ],
   "source": [
    "# Receives number\n",
    "# Tries to repeat the division by 32 times, always multiplying the number by 2\n",
    "# Which in binary, is the same as shifting to the left\n",
    "# If the number is greater than 1, stores a 1 and subtracts 1 from the number\n",
    "# If the number is less than 1, stores 0\n",
    "\n",
    "def decimal_to_string(num):\n",
    "    binary = ['0.']\n",
    "    for _ in range(32):\n",
    "        num *= 2\n",
    "        if num >= 1:\n",
    "            binary.append('1')\n",
    "            num -= 1\n",
    "        else:\n",
    "            binary.append('0')\n",
    "        if num == 0: \n",
    "            break\n",
    "    else:\n",
    "        return \"ERROR\"\n",
    "    \n",
    "    return \"\".join(binary) \n",
    "\n",
    "# Testing time\n",
    "\n",
    "print(decimal_to_string(0.625))\n",
    "print(decimal_to_string(0.5))\n",
    "print(decimal_to_string(0.125))\n"
   ]
  },
  {
   "cell_type": "code",
   "execution_count": null,
   "metadata": {},
   "outputs": [],
   "source": []
  }
 ],
 "metadata": {
  "kernelspec": {
   "display_name": "Python 3",
   "language": "python",
   "name": "python3"
  },
  "language_info": {
   "codemirror_mode": {
    "name": "ipython",
    "version": 3
   },
   "file_extension": ".py",
   "mimetype": "text/x-python",
   "name": "python",
   "nbconvert_exporter": "python",
   "pygments_lexer": "ipython3",
   "version": "3.13.2"
  }
 },
 "nbformat": 4,
 "nbformat_minor": 2
}
