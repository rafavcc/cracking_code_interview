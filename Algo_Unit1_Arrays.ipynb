{
 "cells": [
  {
   "cell_type": "markdown",
   "id": "93ae3a44",
   "metadata": {},
   "source": [
    "### Exercise 1.1\n",
    "Is Unique: Implement an algorithm to determine if a string has all unique characters. What if you\n",
    "cannot use additional data structures?\n",
    "\n"
   ]
  },
  {
   "cell_type": "code",
   "execution_count": null,
   "id": "d5ea0eb0",
   "metadata": {},
   "outputs": [],
   "source": [
    "# First Implementation - Simpler, using a dictionary as auxiliar/temporary varaible\n",
    "def checker(word: str): # Define function that imports a \n",
    "    counting = dict()\n",
    "    for i in word:\n",
    "        if i in counting:\n",
    "            return \"Character already present\"\n",
    "        else:\n",
    "            counting[i] = 1\n",
    "    return \"No repeated characters!\"\n",
    "\n",
    "# Second Implementation\n",
    "# Iterate twice in the word received\n",
    "def new_checker(word :str):\n",
    "    size = len(word)\n",
    "    if size <= 0: return \"Word does not have characters!\"\n",
    "    for i in range(0,size):\n",
    "        for j in range(j,size):\n",
    "            if i == j:\n",
    "                return \"Character already present\"\n",
    "    return \"No repeated characters!\""
   ]
  },
  {
   "cell_type": "markdown",
   "id": "0198c103",
   "metadata": {},
   "source": [
    "### Exercise 1.2\n",
    "\n",
    "Check Permutation: Given two strings, write a method to decide if one is a permutation of the\n",
    "other."
   ]
  },
  {
   "cell_type": "code",
   "execution_count": null,
   "id": "568da448",
   "metadata": {},
   "outputs": [
    {
     "name": "stdout",
     "output_type": "stream",
     "text": [
      "Yes, permutation\n",
      "Not permutation\n",
      "Yes, permutation\n"
     ]
    }
   ],
   "source": [
    "# The easiest way is to create a dictionary, where the keys are the letters of the word, and the values, are the occurences of the letters.\n",
    "# Two permutation will have the same letters and the same occurence of the letters\n",
    "\n",
    "# Initial function to create the dict of a word\n",
    "def make_dict(word : str):\n",
    "    if len(word) <= 0 : return # Checking if it's a valid word/string\n",
    "    counting = dict()\n",
    "    for i in word:\n",
    "        if i in counting:\n",
    "            counting[i] += 1\n",
    "        else:\n",
    "            counting[i] = 1\n",
    "    return counting\n",
    "\n",
    "# Function to compare both words. Will dictate if the words are permutations or not\n",
    "def compare(word1, word2):\n",
    "    dict1 = make_dict(word1)\n",
    "    dict2 = make_dict(word2)\n",
    "    if (dict1 == dict2):\n",
    "        print(f'Yes, permutation')\n",
    "    else:\n",
    "        print(f'Not permutation')\n",
    "\n",
    "if __name__ == \"__main__\" :        \n",
    "    # Generating strings with my name to check the code for errors\n",
    "    rafael = 'rafael'\n",
    "    viegas = 'viegas'\n",
    "    leafar = 'leafar'\n",
    "    learaf = 'learaf'\n",
    "\n",
    "    raf = 'raf'\n",
    "\n",
    "    compare(rafael, leafar)\n",
    "    compare(rafael, viegas)\n",
    "    compare(leafar, learaf)\n"
   ]
  },
  {
   "cell_type": "markdown",
   "id": "f2b96999",
   "metadata": {},
   "source": [
    "### Exercise 1.3\n",
    "\n",
    "URLify: Write a method to replace all spaces in a string with '%20'. You may assume that the string\n",
    "has sufficient space at the end to hold the additional characters, and that you are given the \"true\"\n",
    "length of the string. (Note: If implementing in Java, please use a character array so that you can\n",
    "perform this operation in place.)"
   ]
  },
  {
   "cell_type": "code",
   "execution_count": 5,
   "id": "df11817f",
   "metadata": {},
   "outputs": [
    {
     "name": "stdout",
     "output_type": "stream",
     "text": [
      "Rafael%20Viegas\n"
     ]
    }
   ],
   "source": [
    "# In python, we can use string method replace. It will perform the exact operation needed by the algorithm.\n",
    "def replacement(string : str):\n",
    "    string = string.replace(' ', '%20')\n",
    "    return string\n",
    "\n",
    "if __name__ == \"__main__\":\n",
    "    rv = \"Rafael Viegas\"\n",
    "    print(replacement(rv))"
   ]
  },
  {
   "cell_type": "markdown",
   "id": "19802212",
   "metadata": {},
   "source": [
    "### Exercise 1.4\n",
    "\n",
    "Palindrome Permutation: Given a string, write a function to check if it is a permutation of a palindrome.\n",
    "A palindrome is a word or phrase that is the same forwards and backwards. A permutation\n",
    "is a rearrangement of letters. The palindrome does not need to be limited to just dictionary words."
   ]
  },
  {
   "cell_type": "code",
   "execution_count": 7,
   "id": "42c42ade",
   "metadata": {},
   "outputs": [
    {
     "name": "stdout",
     "output_type": "stream",
     "text": [
      "1\n",
      "2\n",
      "3\n",
      "4\n",
      "5\n",
      "6\n",
      "7\n",
      "8\n",
      "Permutation does not form a palindrome\n",
      "1\n",
      "Permutation forms a palindrome\n",
      "1\n",
      "2\n",
      "Permutation does not form a palindrome\n",
      "1\n",
      "Permutation forms a palindrome\n",
      "1\n",
      "Permutation forms a palindrome\n",
      "1\n",
      "Permutation forms a palindrome\n"
     ]
    }
   ],
   "source": [
    "# For this exercise, we will use the same make_dict function used in a previous exercise.\n",
    "def make_dict(word : str):\n",
    "    counting = dict()\n",
    "    for i in word:\n",
    "        if i in counting:\n",
    "            counting[i] += 1\n",
    "        else:\n",
    "            counting[i] = 1\n",
    "    return counting\n",
    "\n",
    "# So, the exercise is asking us to check if the dict can generate a palindrome.\n",
    "# There is a certain condition to generate a palindrome:\n",
    "# Only one letter can have odd occurences (1,3,5...)\n",
    "# All other letters must be have odd occurences (0, 2, 4...) \n",
    "# The code below will check each letter for it's ocurrences\n",
    "def check_dict(counting : dict):\n",
    "    odds = 0\n",
    "    for i in counting.values():\n",
    "        if (i % 2 == 1):\n",
    "            odds += 1\n",
    "            print(odds)\n",
    "    if odds > 1:\n",
    "        print(\"Permutation does not form a palindrome\")\n",
    "    else: \n",
    "        print(\"Permutation forms a palindrome\")\n",
    "\n",
    "\n",
    "if __name__ == \"__main__\":\n",
    "    rv = \"rafaelviegas\"\n",
    "    teste = 'teste'\n",
    "    catcat = 'cazatt'\n",
    "    cat0cat = 'cat0cat'\n",
    "    catcat0 = 'catcat0'\n",
    "    google = 'Acararajadadajararaca'\n",
    "                    \n",
    "        \n",
    "    check_dict(make_dict(rv))\n",
    "    check_dict(make_dict(teste))\n",
    "    check_dict(make_dict(catcat))\n",
    "    check_dict(make_dict(cat0cat))\n",
    "    check_dict(make_dict(catcat0))\n",
    "    check_dict(make_dict(google))"
   ]
  },
  {
   "cell_type": "markdown",
   "id": "e2a7b6de",
   "metadata": {},
   "source": [
    "### Exercise 1.5\n",
    "\n",
    "There are three types of edits that can be performed on strings: insert a character,\n",
    "remove a character, or replace a character. Given two strings, write a function to check if they are\n",
    "one edit (or zero edits) away"
   ]
  },
  {
   "cell_type": "code",
   "execution_count": null,
   "id": "95459925",
   "metadata": {},
   "outputs": [
    {
     "name": "stdout",
     "output_type": "stream",
     "text": [
      "False\n"
     ]
    }
   ],
   "source": [
    "# If the length difference is 1, it is a case of insertion or removal\n",
    "# If the length difference is 0, it is a case of replacement\n",
    "\n",
    "def oneAway(string1, string2):\n",
    "    size1 = len(string1)\n",
    "    size2 = len(string2)\n",
    "    \n",
    "    # Make sure string1 is always bigger\n",
    "    if size2 > size1:\n",
    "        temp = string2\n",
    "        string2 = string1\n",
    "        string1 = temp\n",
    "          \n",
    "    i, j = 0, 0\n",
    "    errors = 0 # If variable errors is bigger than 1, we will always return False\n",
    "    \n",
    "    if abs(size1-size2) > 1 : return False # There are more than two editions in the string1\n",
    "    \n",
    "    if abs(size1-size2) == 1 :\n",
    "        # Case where the strings are not the same size\n",
    "        while (i != size1):\n",
    "            if string1[i] != string2[j]:\n",
    "                errors += 1\n",
    "                i+=1 # Move the cursor of the bigger string one letter\n",
    "            i+=1\n",
    "            j+=1\n",
    "        if errors > 1: return False\n",
    "        else: return True \n",
    "    \n",
    "    if abs(size1-size2) == 0:\n",
    "    # This is the case where the strings are the same size\n",
    "        while (i != size1):\n",
    "            if string1[i] != string2[j]:\n",
    "                errors += 1\n",
    "            i += 1\n",
    "            j += 1\n",
    "        if errors > 1: return False\n",
    "        else: return True \n",
    "            \n",
    "print(oneAway('rafael', 'zafae'))\n",
    "\n",
    "\n"
   ]
  },
  {
   "cell_type": "markdown",
   "id": "75150b00",
   "metadata": {},
   "source": [
    "### Exercise 1.6\n",
    "\n",
    "String Compression: Implement a method to perform basic string compression using the counts\n",
    "of repeated characters. For example, the string aabcccccaaa would become a2blc5a3. If the\n",
    "\"compressed\" string would not become smaller than the original string, your method should return\n",
    "the original string. You can assume the string has only uppercase and lowercase letters (a - z)."
   ]
  },
  {
   "cell_type": "code",
   "execution_count": 14,
   "id": "5a6359e3",
   "metadata": {},
   "outputs": [
    {
     "name": "stdout",
     "output_type": "stream",
     "text": [
      "a1b1c1z9d1e1\n"
     ]
    }
   ],
   "source": [
    "# Let's make use of the dict generation once again and add a little bit more code to it\n",
    "def make_dict(string : str):\n",
    "    counting = dict()\n",
    "    for i in string:\n",
    "        if i in counting:\n",
    "            counting[i] += 1\n",
    "        else:\n",
    "            counting[i] = 1\n",
    "\n",
    "    result = str() # Variable result will store the new string generated after the process\n",
    "    size = len(counting)\n",
    "    # Let's store the keys and values in separate variables so it's easier to understand the solution\n",
    "    keys = list(counting.keys())\n",
    "    values = list(counting.values())\n",
    "    for i in range(0,size): # For each letter, we make the coding accordingly\n",
    "        result += keys[i] + str(values[i])\n",
    "    \n",
    "    if len(result) > len(string): result = string # Check to confirm that the new string is small than the original one.\n",
    "    \n",
    "    return result # Return the smallest string of the two\n",
    "\n",
    "if __name__ == \"__main__\":\n",
    "    # Testing...\n",
    "    string = 'abczzzzzzzzzde'\n",
    "    print(make_dict(string))\n"
   ]
  },
  {
   "cell_type": "markdown",
   "id": "6eec660e",
   "metadata": {},
   "source": [
    "### Exercicio 1.7 \n",
    "Rotate Matrix: Given an image represented by an NxN matrix, where each pixel in the image is 4\n",
    "bytes, write a method to rotate the image by 90 degrees. Can you do this in place?\n",
    "\n",
    "Page on 102\n",
    "\n",
    "Hint on 667\n",
    "\n",
    "Solution on 214"
   ]
  },
  {
   "cell_type": "code",
   "execution_count": 42,
   "id": "dc1434c8",
   "metadata": {},
   "outputs": [
    {
     "name": "stdout",
     "output_type": "stream",
     "text": [
      " 1  2  3  4  5  6  7\n",
      " 8  9 10 11 12 13 14\n",
      "15 16 17 18 19 20 21\n",
      "22 23 24 25 26 27 28\n",
      "29 30 31 32 33 34 35\n",
      "36 37 38 39 40 41 42\n",
      "43 44 45 46 47 48 49\n",
      "43 36 29 22 15  8  1\n",
      "44 37 30 23 16  9  2\n",
      "45 38 31 24 17 10  3\n",
      "46 39 32 25 18 11  4\n",
      "47 40 33 26 19 12  5\n",
      "48 41 34 27 20 13  6\n",
      "49 42 35 28 21 14  7\n"
     ]
    }
   ],
   "source": [
    "# This is a very hard exercise\n",
    "# I read some material and it seems that the best approach is to implement it in layers\n",
    "# There are n_matrix // 2 layers that need to be rotated.\n",
    "# For n = 2 or 3, there is only one layer to be rotated\n",
    "# For n = 4 or 5, there are two layers to be rotated, and so on....\n",
    "\n",
    "# For each vertex, there are n - layers_index - 1 positions to be changed\n",
    "# Ex. The last item of a line or column is the first of the line or column adjacent\n",
    "# So, for example, if we have a 7x7 matrix: the 6 items on the first line will switch data with the 6 items on the next column\n",
    "\n",
    "def rotate (matrix):\n",
    "    n = len(matrix[0]) # Get the number of lines/columns in the matrix.\n",
    "    layers = n // 2 # By dividing by 2, we get the number of layers the algorithm will have to traverse in the matrix\n",
    "    max_idx = n - 1 # Getting the index \n",
    "    for idx in range(layers): # Outer loop, to update first and last\n",
    "        first = idx\n",
    "        last = n - idx - 1\n",
    "        \n",
    "        for i in range(first, last): # Inner loop, changing the values\n",
    "            temp = matrix[idx][i] # Temp receives Top Left\n",
    "            \n",
    "            matrix[idx][i] = matrix[max_idx - i][idx] # Top Left recebe Bottom Left\n",
    "            \n",
    "            matrix[max_idx - i][idx] = matrix[max_idx - idx][max_idx - i] # Bottom Left recebe Bottom Right\n",
    "            \n",
    "            matrix[max_idx - idx][max_idx - i] = matrix[i][max_idx - idx] # Bottom Right recebe Top Right\n",
    "            \n",
    "            matrix[i][max_idx - idx] = temp # Top Right recebe Temp\n",
    "            \n",
    "def print_matrix(matrix): # Auxiliary function to print\n",
    "    for row in matrix:\n",
    "        print(\" \".join(f\"{val:2}\" for val in row))\n",
    "            \n",
    "if __name__ == \"__main__\":\n",
    "    \n",
    "    # Creating an incremental 7x7 matrix for testing and displyaing it before and after the changes       \n",
    "    matrix = [[j + i * 7 + 1 for j in range(7)] for i in range(7)]\n",
    "    print_matrix(matrix)\n",
    "    rotate(matrix)\n",
    "    print_matrix(matrix)\n",
    "\n"
   ]
  },
  {
   "cell_type": "markdown",
   "id": "a9182181",
   "metadata": {},
   "source": [
    "### Exercise 1.8 \n",
    "Zero Matrix: Write an algorithm such that if an element in an MxN matrix is 0, its entire row and column are set to 0 \n",
    "\n",
    "Page on 102 \n",
    "\n",
    "Hint on 667\n",
    "\n",
    "Solution on 214\n",
    "\n"
   ]
  },
  {
   "cell_type": "code",
   "execution_count": null,
   "id": "c8eebe53",
   "metadata": {},
   "outputs": [
    {
     "name": "stdout",
     "output_type": "stream",
     "text": [
      "[[0, 2, 3, 0], [0, 6, 7, 0], [0, 0, 0, 0], [0, 0, 0, 0]]\n"
     ]
    }
   ],
   "source": [
    "# Algorithm to solve this problem\n",
    "# Receives a matrix.\n",
    "# We will traverse all the rows.\n",
    "# If a zero is found, store its position in another binary matrix (0 and 1).\n",
    "# Based on the information stored in this binary matrix,\n",
    "# we will clear the cells of the original matrix.\n",
    "\n",
    "def zeroMatrix(matrix):\n",
    "    size = len(matrix)\n",
    "    binaria = [[1 for i in range(5)] for j in range(5)]\n",
    "    for i in range(size):\n",
    "        for j in range(size):\n",
    "            if matrix[i][j] == 0:\n",
    "                binaria[i][j] = 0\n",
    "\n",
    "    for i in range(size):\n",
    "        for j in range(size):\n",
    "            if binaria[i][j] == 0:\n",
    "                for k in range(size): matrix[i][k] = 0\n",
    "                for k in range(size): matrix[k][j] = 0\n",
    "    \n",
    "    return matrix\n",
    "\n",
    "if __name__ ==  \"__main__\":\n",
    "\n",
    "    og = [[2, 3, 1, 1, 1], [1, 1, 1, 1, 1], [0, 1, 1, 1, 0], [1, 1, 1, 1, 1], [1, 1, 1, 1, 0]]\n",
    "    og2 = [[1, 2, 3, 4], [5, 6, 7, 8], [ 0, 10, 11, 0], [ 13, 4, 15, 0]]\n",
    "    print(zeroMatrix(og2))"
   ]
  },
  {
   "cell_type": "markdown",
   "id": "23deb666",
   "metadata": {},
   "source": [
    "### Exercise 1.9\n",
    "Page on 102\n",
    "Hint on 667\n",
    "Solution on 214\n",
    "\n",
    "String Rotation: Assume you have a method i 5Su b 5 tr ing which checks if one word is a substring\n",
    "of another. Given two strings, 51 and 52, write code to check if 52 is a rotation of 51 using only one\n",
    "call to i5Sub5tring (e.g., \"waterbottle\" is a rotation of\" erbottlewat\")."
   ]
  },
  {
   "cell_type": "code",
   "execution_count": 41,
   "id": "a726b1be",
   "metadata": {},
   "outputs": [
    {
     "name": "stdout",
     "output_type": "stream",
     "text": [
      "False\n"
     ]
    }
   ],
   "source": [
    "# Once again we make use of the make_dict function.\n",
    "def make_dict(word: str):\n",
    "    counting = dict()\n",
    "    for i in word:\n",
    "        if i in counting:\n",
    "            counting[i] += 1\n",
    "        else:\n",
    "            counting[i] = 1\n",
    "    return counting\n",
    "\n",
    "# We pass the strings as arguments\n",
    "def isSubstring(s1: str, s2: str):\n",
    "    # Making sure s1 is bigger than s2\n",
    "    if len(s2) > len(s1):\n",
    "        temp = s1\n",
    "        s1 = s2\n",
    "        s2 = temp\n",
    "    # Here we create the dicts for both words\n",
    "    dic1 = make_dict(s1)\n",
    "    dic2 = make_dict(s2)\n",
    "    # A simple for will give us the answer: Checkin the conditions of the substring poroblem.\n",
    "    for key in dic2.keys():\n",
    "        if key not in dic1.keys(): return False\n",
    "        if dic1[key] != dic2[key]: return False\n",
    "    return True\n",
    "\n",
    "\n",
    "if __name__ == \"__main__\":\n",
    "    print(isSubstring('raf', 'rafael'))\n"
   ]
  },
  {
   "cell_type": "code",
   "execution_count": null,
   "id": "858c3e52",
   "metadata": {},
   "outputs": [],
   "source": []
  }
 ],
 "metadata": {
  "kernelspec": {
   "display_name": "Python 3",
   "language": "python",
   "name": "python3"
  },
  "language_info": {
   "codemirror_mode": {
    "name": "ipython",
    "version": 3
   },
   "file_extension": ".py",
   "mimetype": "text/x-python",
   "name": "python",
   "nbconvert_exporter": "python",
   "pygments_lexer": "ipython3",
   "version": "3.13.2"
  }
 },
 "nbformat": 4,
 "nbformat_minor": 5
}
